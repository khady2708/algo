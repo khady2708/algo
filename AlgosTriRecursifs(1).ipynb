{
 "cells": [
  {
   "cell_type": "markdown",
   "metadata": {},
   "source": [
    "# 0 Mise en place des fonctions de travail "
   ]
  },
  {
   "cell_type": "code",
   "execution_count": 3,
   "metadata": {},
   "outputs": [],
   "source": [
    "import random\n",
    "\n",
    "def generate_random_array(debug=False, N=21):\n",
    "    \"\"\"Renvoie un tableau contenant toutes les valeurs entières de 0 (inclus)\n",
    "    à N (exclus) rangées dans un ordre aléatoire\n",
    "\n",
    "    Args:\n",
    "        debug (boolean): quand debug est vrai, la fonction renvoie toujours le\n",
    "                         même tableau afin de simplifier le débogage de vos\n",
    "                         algorithmes de tri\n",
    "        N (int): la taille du tableau à renvoyer\n",
    "\n",
    "    Returns:\n",
    "        list[int]: un tableau d'entiers, de taille N, non ordonné\n",
    "    \"\"\"\n",
    "\n",
    "    if debug:\n",
    "        return [3, 9, 7, 1, 6, 2, 8, 4, 5, 0]\n",
    "\n",
    "    array = list(range(0, N))\n",
    "    random.shuffle(array)\n",
    "\n",
    "    return array"
   ]
  },
  {
   "cell_type": "code",
   "execution_count": 4,
   "metadata": {},
   "outputs": [],
   "source": [
    "def swap(tab, i, j):\n",
    "    \"\"\"Échange la place des éléments aux indices i et j du tableau\"\"\"\n",
    "    \n",
    "    raise NotImplementedError"
   ]
  },
  {
   "cell_type": "markdown",
   "metadata": {},
   "source": [
    "# 1 Les tris recursif "
   ]
  },
  {
   "cell_type": "markdown",
   "metadata": {},
   "source": [
    "## 1.1 Merge Sort"
   ]
  },
  {
   "cell_type": "code",
   "execution_count": null,
   "metadata": {},
   "outputs": [],
   "source": [
    "from IPython.display import YouTubeVideo\n",
    "\n",
    "YouTubeVideo('XaqR3G_NVoo', height=600, width=900)"
   ]
  },
  {
   "attachments": {},
   "cell_type": "markdown",
   "metadata": {},
   "source": [
    "**Remarque :** si le pseudo n'est pas au format qui vous convient, réécrivez le ! Il y a peu de chance dans votre futur métier que le pseudocode que vous lirez soit dans votre code de prédilection."
   ]
  },
  {
   "cell_type": "markdown",
   "metadata": {},
   "source": [
    "**Un pseudocode possible** *(source : Wikipedia)*\n",
    "\n",
    "```\n",
    "procedure tri_fusion (E/S t :Tableau[1..MAX] d’Entier,E nb :Naturel) \n",
    "debut\n",
    "    tri_fusion_recursif(t,0,nb)\n",
    "fin\n",
    "\n",
    "procedure tri_fusion_recursif (E/S t :Tableau[1..MAX] d’Entier,E d,f :Naturel) \n",
    "debut\n",
    "    si d < f - 1  alors\n",
    "        m = (d+f) div 2\n",
    "        tri_fusion_recursif(t,d, m) \n",
    "        tri_fusion_recursif(t, m+1,f) \n",
    "        fusionnner(t,d,m,f)\n",
    "    finsi\n",
    "fin\n",
    "\n",
    "procedure fusionner (E/S t : Tableau[1..MAX] d’Entier ; E debut,milieu,fin : Naturel) \n",
    "    Declaration i,j,k : Naturel,\n",
    "                 temp : Tableau[1..MAX] d’Entier\n",
    "debut\n",
    "    i ← debut\n",
    "    j ← milieu\n",
    "    pour k ← debut a fin faire\n",
    "        si i < milieu et j <fin alors \n",
    "            si t[i] <= t[j] alors\n",
    "                temp[k] ← t[i]\n",
    "                i ← i+1 \n",
    "            sinon\n",
    "                temp[k] ← t[j]\n",
    "                j ← j+1 \n",
    "            finsi\n",
    "        sinon\n",
    "            si i < milieu alors\n",
    "                temp[k] ← t[i]\n",
    "                i ← i+1 \n",
    "            sinon\n",
    "                temp[k] ← t[j]\n",
    "                j ← j+1 \n",
    "            finsi\n",
    "        finsi\n",
    "    fin pour\n",
    "    \n",
    "    pour k ← debut à fin faire \n",
    "        t[k] ← temp[k]\n",
    "    fin pour\n",
    "fin\n",
    "    \n",
    "```"
   ]
  },
  {
   "cell_type": "code",
   "execution_count": null,
   "metadata": {},
   "outputs": [],
   "source": [
    "def merge_sort(tab):\n",
    "    \"\"\"Trie le tableau via le principe de « diviser pour mieux régner »\n",
    "    avec l'intelligence du tri qui se trouve au moment de la fusion\"\"\"\n",
    "\n",
    "    merge_sort_r(tab, 0, len(tab))\n",
    "    \n",
    "    raise NotImplementedError\n",
    "\n",
    "def merge_sort_r(tab, start, end):\n",
    "    raise NotImplementedError\n",
    "\n",
    "def merge(tab, start, middle, end):\n",
    "    raise NotImplementedError"
   ]
  },
  {
   "cell_type": "code",
   "execution_count": null,
   "metadata": {
    "scrolled": false
   },
   "outputs": [],
   "source": [
    "merge_sort(generate_random_array())"
   ]
  },
  {
   "cell_type": "markdown",
   "metadata": {},
   "source": [
    "## 1.2 Tri quick sort"
   ]
  },
  {
   "cell_type": "code",
   "execution_count": null,
   "metadata": {},
   "outputs": [],
   "source": [
    "from IPython.display import YouTubeVideo\n",
    "\n",
    "YouTubeVideo('ywWBy6J5gz8', height=600, width=900)"
   ]
  },
  {
   "cell_type": "markdown",
   "metadata": {},
   "source": [
    "**Un pseudocode possible** \n",
    "\n",
    "```\n",
    "tri_rapide(tableau T, entier nb):\n",
    "    tri_rapide_recursif(T,0,nb-1)\n",
    "\n",
    "\n",
    "tri_rapide_recursif(tableau T, entier premier, entier dernier)\n",
    "    si premier < dernier alors\n",
    "        pivot := partitionner(T, premier, dernier)\n",
    "        tri_rapide_recursif(T, premier, pivot-1)\n",
    "        tri_rapide_recursif(T, pivot+1, dernier)\n",
    "    fin si\n",
    "\n",
    "\n",
    "partitionner(tableau T, entier premier, entier dernier)\n",
    "    pivot := T[premier]\n",
    "    i := premier\n",
    "    j := dernier\n",
    "    tant que i <= j faire\n",
    "        si T[i] <= pivot alors \n",
    "            i := i+1\n",
    "        sinon\n",
    "            si T[j] > pivot alors\n",
    "                j := j-1 \n",
    "            sinon\n",
    "                echanger(T[i],T[j])\n",
    "            finsi \n",
    "        finsi\n",
    "    fin tant que\n",
    "    echanger(t[first],t[j])\n",
    "    \n",
    "    retourner j      \n",
    "```"
   ]
  },
  {
   "cell_type": "code",
   "execution_count": null,
   "metadata": {},
   "outputs": [],
   "source": [
    "def quick_sort(tab):\n",
    "    \"\"\"Divise le tableau en deux, trie chacune des sous-parties et fusionne\n",
    "    intelligemment les deux sous-parties triées. L'intelligence se trouve\n",
    "    dans la division du tableau.\"\"\"\n",
    "\n",
    "    quick_sort_r(tab, 0, len(tab)-1)\n",
    "    raise NotImplementedError\n",
    "\n",
    "def quick_sort_r(tab, first, last):\n",
    "    raise NotImplementedError\n",
    "\n",
    "        \n",
    "def partition(tab, first, last):\n",
    "    raise NotImplementedError"
   ]
  },
  {
   "cell_type": "code",
   "execution_count": null,
   "metadata": {
    "scrolled": false
   },
   "outputs": [],
   "source": [
    "quick_sort(generate_random_array())"
   ]
  },
  {
   "cell_type": "markdown",
   "metadata": {},
   "source": [
    "# 3 Procedure ou fonction ?"
   ]
  },
  {
   "cell_type": "code",
   "execution_count": null,
   "metadata": {},
   "outputs": [],
   "source": [
    "# Python sort and sorted functions\n",
    "A = generate_random_array()\n",
    "print(id(A)) \n",
    "A.sort()\n",
    "print(id(A), id(sorted(A)))"
   ]
  }
 ],
 "metadata": {
  "kernelspec": {
   "display_name": "Python 3 (ipykernel)",
   "language": "python",
   "name": "python3"
  },
  "language_info": {
   "codemirror_mode": {
    "name": "ipython",
    "version": 3
   },
   "file_extension": ".py",
   "mimetype": "text/x-python",
   "name": "python",
   "nbconvert_exporter": "python",
   "pygments_lexer": "ipython3",
   "version": "3.9.13"
  }
 },
 "nbformat": 4,
 "nbformat_minor": 2
}
